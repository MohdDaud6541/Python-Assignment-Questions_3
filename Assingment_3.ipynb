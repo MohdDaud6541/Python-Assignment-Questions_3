{
 "cells": [
  {
   "cell_type": "markdown",
   "id": "b67280b1-9350-4860-9592-2421871c3d84",
   "metadata": {},
   "source": [
    "Q.1 Explain with an example each when to use a for loop and a while loop."
   ]
  },
  {
   "cell_type": "markdown",
   "id": "bccfc7c8-c427-4fbe-889f-a83475e1c4fd",
   "metadata": {},
   "source": [
    "Both for loops and while loops are used for iterating over a sequence of statements, but they differ in how the iteration is controlled. A for loop is typically used when the number of iterations is known in advance, while a while loop is used when the number of iterations is not known in advance.\n",
    "\n",
    "Here are some examples to illustrate when to use each loop:\n",
    "\n",
    "1.For Loop: A for loop is useful when you want to perform a set of actions a known number of times. For example, if you want to print the numbers from 1 to 10, you can use a for loop as follows in Python:"
   ]
  },
  {
   "cell_type": "code",
   "execution_count": 9,
   "id": "fc21dc27-3721-438f-9228-6e5c6c585c1d",
   "metadata": {},
   "outputs": [
    {
     "name": "stdout",
     "output_type": "stream",
     "text": [
      "1\n",
      "2\n",
      "3\n",
      "4\n",
      "5\n",
      "6\n",
      "7\n",
      "8\n",
      "9\n",
      "10\n"
     ]
    }
   ],
   "source": [
    "for i in range(1, 11):\n",
    "    print(i)\n"
   ]
  },
  {
   "cell_type": "markdown",
   "id": "d52a1923-ff2c-4400-bdf3-9f24a8d26354",
   "metadata": {},
   "source": [
    "This code will iterate over the numbers from 1 to 10 and print each number.\n",
    "\n",
    "While Loop: A while loop is useful when you want to perform a set of actions until a certain condition is met. For example, if you want to keep prompting a user for input until they enter a valid value, you can use a while loop as follows in Python:"
   ]
  },
  {
   "cell_type": "code",
   "execution_count": 10,
   "id": "354c1eb8-14af-440e-b677-9150e806c1e4",
   "metadata": {},
   "outputs": [
    {
     "name": "stdin",
     "output_type": "stream",
     "text": [
      "Enter a number:  5\n"
     ]
    }
   ],
   "source": [
    "while True:\n",
    "    user_input = input(\"Enter a number: \")\n",
    "    if user_input.isdigit():\n",
    "        break\n",
    "    else:\n",
    "        print(\"Invalid input. Please enter a number.\")\n"
   ]
  },
  {
   "cell_type": "markdown",
   "id": "af6e33bf-0efc-42b4-8507-8a8770354bb5",
   "metadata": {},
   "source": [
    "This code will keep prompting the user for input until they enter a valid number (i.e., a string of digits), and then it will break out of the loop.\n",
    "\n",
    "In summary, use a for loop when you know the number of iterations in advance, and use a while loop when you want to keep iterating until a certain condition is met."
   ]
  },
  {
   "cell_type": "markdown",
   "id": "72c290ba-d46a-4dc8-8242-f14fdcf2ffd6",
   "metadata": {},
   "source": [
    "Q.2 Write a python Program to print the sum and product of the first 10 natural number using for and while loop."
   ]
  },
  {
   "cell_type": "markdown",
   "id": "57fd3d38-0fdc-4ea0-9169-62e8defd3c46",
   "metadata": {},
   "source": [
    "Ans.Using For loop:"
   ]
  },
  {
   "cell_type": "code",
   "execution_count": 1,
   "id": "03420d7c-c3f1-4ce9-b8f9-be1b048b1be5",
   "metadata": {},
   "outputs": [
    {
     "name": "stdout",
     "output_type": "stream",
     "text": [
      "The sum of the first 10 natural numbers is: 55\n",
      "The product of the first 10 natural numbers is: 3628800\n"
     ]
    }
   ],
   "source": [
    "# using for loop to calculate sum and product of first 10 natural numbers\n",
    "n = 10\n",
    "sum = 0\n",
    "product = 1\n",
    "\n",
    "for i in range(1, n+1):\n",
    "    sum += i\n",
    "    product *= i\n",
    "\n",
    "print(f\"The sum of the first 10 natural numbers is: {sum}\")\n",
    "print(f\"The product of the first 10 natural numbers is: {product}\")\n"
   ]
  },
  {
   "cell_type": "markdown",
   "id": "d2527ade-eb2d-4bef-83f2-9ddad5f92607",
   "metadata": {},
   "source": [
    "Using While loop:"
   ]
  },
  {
   "cell_type": "code",
   "execution_count": 2,
   "id": "279b49e8-c95f-4eca-8462-e09e0c5bd7b5",
   "metadata": {},
   "outputs": [
    {
     "name": "stdout",
     "output_type": "stream",
     "text": [
      "The sum of the first 10 natural numbers is: 55\n",
      "The product of the first 10 natural numbers is: 3628800\n"
     ]
    }
   ],
   "source": [
    "# using while loop to calculate sum and product of first 10 natural numbers\n",
    "n = 10\n",
    "sum = 0\n",
    "product = 1\n",
    "i = 1\n",
    "\n",
    "while i <= n:\n",
    "    sum += i\n",
    "    product *= i\n",
    "    i += 1\n",
    "\n",
    "print(f\"The sum of the first 10 natural numbers is: {sum}\")\n",
    "print(f\"The product of the first 10 natural numbers is: {product}\")\n"
   ]
  },
  {
   "cell_type": "markdown",
   "id": "d7c0443d-8c0f-434f-a7f0-c3ce192865d5",
   "metadata": {},
   "source": [
    "Q.3 Create a python program to compute the electricity bill for a household.\n",
    "The per-unit charge in rupees are as follows: for the first 100 units. the user will be charged Rs. 4.5 per unit, for the next 100 units, the user will be charged Rs. 6 per unit, and for the next 100 units, the user will be charged Rs. 10 per unit, After 300 units and above the user will be charged Rs. 20 per unit. \n",
    "\n",
    "You are required to take the units of electricity consumed in a month from the user as input.\n",
    "\n",
    "Your program must pass this test case: when the unit of electricity consumed by the user in a month is 310, the total electricity bill should be 2250."
   ]
  },
  {
   "cell_type": "markdown",
   "id": "38316ca5-a153-48c9-a242-eed574465140",
   "metadata": {},
   "source": [
    "Ans.Here's a Python program that takes the units of electricity consumed as input and computes the electricity bill based on the per-unit charges mentioned:"
   ]
  },
  {
   "cell_type": "code",
   "execution_count": 4,
   "id": "69774a78-15df-4453-bd97-c4df502eae44",
   "metadata": {},
   "outputs": [
    {
     "name": "stdin",
     "output_type": "stream",
     "text": [
      "Enter the number of units consumed:  400\n"
     ]
    },
    {
     "name": "stdout",
     "output_type": "stream",
     "text": [
      "The electricity bill for 400 units is Rs. 4050.00\n"
     ]
    }
   ],
   "source": [
    "# Take input of the number of units consumed\n",
    "units = int(input(\"Enter the number of units consumed: \"))\n",
    "\n",
    "# Calculate the bill based on the per-unit charges\n",
    "if units <= 100:\n",
    "    bill = units * 4.5\n",
    "elif units <= 200:\n",
    "    bill = 100 * 4.5 + (units - 100) * 6\n",
    "elif units <= 300:\n",
    "    bill = 100 * 4.5 + 100 * 6 + (units - 200) * 10\n",
    "else:\n",
    "    bill = 100 * 4.5 + 100 * 6 + 100 * 10 + (units - 300) * 20\n",
    "\n",
    "# Display the electricity bill for the household\n",
    "print(f\"The electricity bill for {units} units is Rs. {bill:.2f}\")\n"
   ]
  },
  {
   "cell_type": "markdown",
   "id": "d78661d4-27e2-4d83-bb2e-61682c87db50",
   "metadata": {},
   "source": [
    "In this program, we take input of the number of units consumed by the user using the input() function. Then, we use if-elif statements to calculate the bill based on the per-unit charges mentioned in the problem. Finally, we display the calculated bill using f-strings and format the output to two decimal places using the :.2f specifier.\n",
    "\n",
    "For the test case where the unit of electricity consumed by the user in a month is 310, the total electricity bill is 2250, which is the correct result.\n",
    "\n",
    "\n",
    "\n"
   ]
  },
  {
   "cell_type": "markdown",
   "id": "72e158be-708c-4011-bdd1-7037b0bb736a",
   "metadata": {},
   "source": [
    "Q.4 Create a list of number from 1 to 100. Use for loop and while loop to calculate the cube of each number and if the cube of that number is divisible by 4 or 5 then append that number in a list and print that list."
   ]
  },
  {
   "cell_type": "markdown",
   "id": "a5dfccbb-9d81-405d-9a3d-1cf27dd19397",
   "metadata": {},
   "source": [
    "Ans. Here's a Python program that creates a list of numbers from 1 to 100, calculates the cube of each number using a for loop and while loop, and then appends the numbers whose cube is divisible by 4 or 5 to a new list and prints it:"
   ]
  },
  {
   "cell_type": "markdown",
   "id": "d0d364cf-6aab-47ae-967d-8221d5363e28",
   "metadata": {
    "tags": []
   },
   "source": [
    "Using For loop:"
   ]
  },
  {
   "cell_type": "code",
   "execution_count": 6,
   "id": "035bc12c-dd2a-4b7d-9c2e-6484be9e881c",
   "metadata": {},
   "outputs": [
    {
     "name": "stdout",
     "output_type": "stream",
     "text": [
      "[2, 4, 5, 6, 8, 10, 12, 14, 15, 16, 18, 20, 22, 24, 25, 26, 28, 30, 32, 34, 35, 36, 38, 40, 42, 44, 45, 46, 48, 50, 52, 54, 55, 56, 58, 60, 62, 64, 65, 66, 68, 70, 72, 74, 75, 76, 78, 80, 82, 84, 85, 86, 88, 90, 92, 94, 95, 96, 98, 100]\n"
     ]
    }
   ],
   "source": [
    "# using for loop to calculate cube of numbers and append the ones whose cube is divisible by 4 or 5 to a new list\n",
    "cube_list = []\n",
    "\n",
    "for num in range(1, 101):\n",
    "    cube = num ** 3\n",
    "    if cube % 4 == 0 or cube % 5 == 0:\n",
    "        cube_list.append(num)\n",
    "\n",
    "print(cube_list)\n"
   ]
  },
  {
   "cell_type": "markdown",
   "id": "055600cc-f515-4ede-965f-45337fb4e27b",
   "metadata": {},
   "source": [
    "Using While loop:"
   ]
  },
  {
   "cell_type": "code",
   "execution_count": 7,
   "id": "0cbac3f2-6d1f-402b-a7cb-c4007cbdc821",
   "metadata": {},
   "outputs": [
    {
     "name": "stdout",
     "output_type": "stream",
     "text": [
      "[2, 4, 5, 6, 8, 10, 12, 14, 15, 16, 18, 20, 22, 24, 25, 26, 28, 30, 32, 34, 35, 36, 38, 40, 42, 44, 45, 46, 48, 50, 52, 54, 55, 56, 58, 60, 62, 64, 65, 66, 68, 70, 72, 74, 75, 76, 78, 80, 82, 84, 85, 86, 88, 90, 92, 94, 95, 96, 98, 100]\n"
     ]
    }
   ],
   "source": [
    "# using while loop to calculate cube of numbers and append the ones whose cube is divisible by 4 or 5 to a new list\n",
    "cube_list = []\n",
    "num = 1\n",
    "\n",
    "while num <= 100:\n",
    "    cube = num ** 3\n",
    "    if cube % 4 == 0 or cube % 5 == 0:\n",
    "        cube_list.append(num)\n",
    "    num += 1\n",
    "\n",
    "print(cube_list)\n"
   ]
  },
  {
   "cell_type": "markdown",
   "id": "bdb3e195-a95c-45d9-a741-0e580c0de2cd",
   "metadata": {},
   "source": [
    "Both programs will produce the same output, which is a list of numbers whose cube is divisible by 4 or 5:"
   ]
  },
  {
   "cell_type": "markdown",
   "id": "fcb2e297-83d1-4819-87cd-f5c3e0388c93",
   "metadata": {},
   "source": [
    "Q.5 Write a program to filter count vowels in the below-given string.\n",
    "string=\"I want to become a data scientist\""
   ]
  },
  {
   "cell_type": "markdown",
   "id": "0c883b05-cbab-4ee7-b404-82ff8d2b62fd",
   "metadata": {},
   "source": [
    "Here's a Python program that filters and counts the vowels in the given string:"
   ]
  },
  {
   "cell_type": "code",
   "execution_count": 8,
   "id": "d605120a-6dcc-455b-90c1-9c48a6c5a71e",
   "metadata": {},
   "outputs": [
    {
     "name": "stdout",
     "output_type": "stream",
     "text": [
      "The string 'I want to become a data scientist' contains 12 vowels.\n"
     ]
    }
   ],
   "source": [
    "string = \"I want to become a data scientist\"\n",
    "vowels = \"aeiouAEIOU\"\n",
    "count = 0\n",
    "\n",
    "for char in string:\n",
    "    if char in vowels:\n",
    "        count += 1\n",
    "\n",
    "print(f\"The string '{string}' contains {count} vowels.\")\n"
   ]
  },
  {
   "cell_type": "markdown",
   "id": "d5dde396-9edb-4776-b952-fda0778a220d",
   "metadata": {},
   "source": [
    "In this program, we define a string variable string containing the input string, and a string variable vowels containing all the vowels in upper and lower case.\n",
    "\n",
    "Then, we initialize a counter variable count to 0 and use a for loop to iterate over each character in the input string. If the current character is a vowel, we increment the counter variable by 1.\n",
    "\n",
    "Finally, we display the number of vowels counted using f-strings.\n",
    "\n",
    "When we run this program with the given input string, it will output:"
   ]
  }
 ],
 "metadata": {
  "kernelspec": {
   "display_name": "Python 3 (ipykernel)",
   "language": "python",
   "name": "python3"
  },
  "language_info": {
   "codemirror_mode": {
    "name": "ipython",
    "version": 3
   },
   "file_extension": ".py",
   "mimetype": "text/x-python",
   "name": "python",
   "nbconvert_exporter": "python",
   "pygments_lexer": "ipython3",
   "version": "3.10.8"
  }
 },
 "nbformat": 4,
 "nbformat_minor": 5
}
